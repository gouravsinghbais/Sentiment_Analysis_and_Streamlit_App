{
 "cells": [
  {
   "cell_type": "code",
   "execution_count": 4,
   "id": "5350e6d0",
   "metadata": {},
   "outputs": [],
   "source": [
    "# Importing required libraries\n",
    "import pickle\n",
    "import nltk\n",
    "import pandas as pd\n",
    "\n",
    "# preprocessing dependencies\n",
    "from nltk.corpus import stopwords\n",
    "from textblob import Word\n",
    "from sklearn.preprocessing import LabelEncoder\n",
    "from collections import Counter\n",
    "\n",
    "# model dependencies\n",
    "from sklearn.metrics import classification_report,confusion_matrix,accuracy_score\n",
    "from keras.models import Sequential\n",
    "from keras.preprocessing.text import Tokenizer\n",
    "from keras.preprocessing.sequence import pad_sequences\n",
    "from keras.layers import Dense, Embedding, LSTM, SpatialDropout1D\n",
    "from sklearn.model_selection import train_test_split \n",
    "\n",
    "# plot dependencies\n",
    "import matplotlib.pyplot as plt\n",
    "import wordcloud"
   ]
  },
  {
   "cell_type": "markdown",
   "id": "5567e7e3",
   "metadata": {},
   "source": [
    "# Loading Data "
   ]
  },
  {
   "cell_type": "code",
   "execution_count": 12,
   "id": "a524093b",
   "metadata": {},
   "outputs": [
    {
     "data": {
      "text/html": [
       "<div>\n",
       "<style scoped>\n",
       "    .dataframe tbody tr th:only-of-type {\n",
       "        vertical-align: middle;\n",
       "    }\n",
       "\n",
       "    .dataframe tbody tr th {\n",
       "        vertical-align: top;\n",
       "    }\n",
       "\n",
       "    .dataframe thead th {\n",
       "        text-align: right;\n",
       "    }\n",
       "</style>\n",
       "<table border=\"1\" class=\"dataframe\">\n",
       "  <thead>\n",
       "    <tr style=\"text-align: right;\">\n",
       "      <th></th>\n",
       "      <th>clean_comment</th>\n",
       "      <th>category</th>\n",
       "    </tr>\n",
       "  </thead>\n",
       "  <tbody>\n",
       "    <tr>\n",
       "      <th>0</th>\n",
       "      <td>family mormon have never tried explain them t...</td>\n",
       "      <td>1</td>\n",
       "    </tr>\n",
       "    <tr>\n",
       "      <th>1</th>\n",
       "      <td>buddhism has very much lot compatible with chr...</td>\n",
       "      <td>1</td>\n",
       "    </tr>\n",
       "    <tr>\n",
       "      <th>2</th>\n",
       "      <td>seriously don say thing first all they won get...</td>\n",
       "      <td>-1</td>\n",
       "    </tr>\n",
       "    <tr>\n",
       "      <th>3</th>\n",
       "      <td>what you have learned yours and only yours wha...</td>\n",
       "      <td>0</td>\n",
       "    </tr>\n",
       "    <tr>\n",
       "      <th>4</th>\n",
       "      <td>for your own benefit you may want read living ...</td>\n",
       "      <td>1</td>\n",
       "    </tr>\n",
       "  </tbody>\n",
       "</table>\n",
       "</div>"
      ],
      "text/plain": [
       "                                       clean_comment  category\n",
       "0   family mormon have never tried explain them t...         1\n",
       "1  buddhism has very much lot compatible with chr...         1\n",
       "2  seriously don say thing first all they won get...        -1\n",
       "3  what you have learned yours and only yours wha...         0\n",
       "4  for your own benefit you may want read living ...         1"
      ]
     },
     "execution_count": 12,
     "metadata": {},
     "output_type": "execute_result"
    }
   ],
   "source": [
    "# load dataset\n",
    "reddit = pd.read_csv('Reddit_Data.csv')\n",
    "reddit.head()"
   ]
  },
  {
   "cell_type": "code",
   "execution_count": 52,
   "id": "4a49ef62",
   "metadata": {},
   "outputs": [
    {
     "data": {
      "text/plain": [
       " 1    15830\n",
       " 0    13142\n",
       "-1     8277\n",
       "Name: category, dtype: int64"
      ]
     },
     "execution_count": 52,
     "metadata": {},
     "output_type": "execute_result"
    }
   ],
   "source": [
    "# check distribution of values\n",
    "reddit['category'].value_counts()"
   ]
  },
  {
   "cell_type": "code",
   "execution_count": 53,
   "id": "732cffed",
   "metadata": {},
   "outputs": [
    {
     "data": {
      "text/plain": [
       "clean_comment    100\n",
       "category           0\n",
       "dtype: int64"
      ]
     },
     "execution_count": 53,
     "metadata": {},
     "output_type": "execute_result"
    }
   ],
   "source": [
    "# check NaN values\n",
    "reddit.isna().sum()"
   ]
  },
  {
   "cell_type": "code",
   "execution_count": 54,
   "id": "f62e4e6d",
   "metadata": {},
   "outputs": [],
   "source": [
    "# drop NaN values\n",
    "df = reddit.dropna()\n",
    "data_v1 = df.copy()"
   ]
  },
  {
   "cell_type": "markdown",
   "id": "fc23fd34",
   "metadata": {},
   "source": [
    "# Data Cleaning and Preprocessing "
   ]
  },
  {
   "cell_type": "code",
   "execution_count": 55,
   "id": "1fc2ea25",
   "metadata": {},
   "outputs": [],
   "source": [
    "# clean dataset\n",
    "def cleaning(df, stop_words):\n",
    "    df['clean_comment'] = df['clean_comment'].apply(lambda x:' '.join(x.lower() for x in x.split()))\n",
    "    # Replacing the digits/numbers\n",
    "    df['clean_comment'] = df['clean_comment'].str.replace('d', '')\n",
    "    # Removing stop words\n",
    "    df['clean_comment'] = df['clean_comment'].apply(lambda x:' '.join(x for x in x.split() if x not in stop_words))\n",
    "    # Lemmatization\n",
    "    df['clean_comment'] = df['clean_comment'].apply(lambda x:' '.join([Word(x).lemmatize() for x in x.split()]))\n",
    "    return df\n",
    "\n",
    "stop_words = stopwords.words('english')\n",
    "data_v1 = cleaning(data_v1, stop_words)"
   ]
  },
  {
   "cell_type": "code",
   "execution_count": 150,
   "id": "5039ce4e",
   "metadata": {},
   "outputs": [
    {
     "data": {
      "text/html": [
       "<div>\n",
       "<style scoped>\n",
       "    .dataframe tbody tr th:only-of-type {\n",
       "        vertical-align: middle;\n",
       "    }\n",
       "\n",
       "    .dataframe tbody tr th {\n",
       "        vertical-align: top;\n",
       "    }\n",
       "\n",
       "    .dataframe thead th {\n",
       "        text-align: right;\n",
       "    }\n",
       "</style>\n",
       "<table border=\"1\" class=\"dataframe\">\n",
       "  <thead>\n",
       "    <tr style=\"text-align: right;\">\n",
       "      <th></th>\n",
       "      <th>clean_comment</th>\n",
       "      <th>category</th>\n",
       "    </tr>\n",
       "  </thead>\n",
       "  <tbody>\n",
       "    <tr>\n",
       "      <th>0</th>\n",
       "      <td>family mormon never trie explain still stare p...</td>\n",
       "      <td>2</td>\n",
       "    </tr>\n",
       "    <tr>\n",
       "      <th>1</th>\n",
       "      <td>buhism much lot compatible christianity especi...</td>\n",
       "      <td>2</td>\n",
       "    </tr>\n",
       "    <tr>\n",
       "      <th>2</th>\n",
       "      <td>seriously say thing first get complex explain ...</td>\n",
       "      <td>0</td>\n",
       "    </tr>\n",
       "    <tr>\n",
       "      <th>3</th>\n",
       "      <td>learne want teach ifferent focus goal wrapping...</td>\n",
       "      <td>1</td>\n",
       "    </tr>\n",
       "    <tr>\n",
       "      <th>4</th>\n",
       "      <td>benefit may want rea living buha living christ...</td>\n",
       "      <td>2</td>\n",
       "    </tr>\n",
       "  </tbody>\n",
       "</table>\n",
       "</div>"
      ],
      "text/plain": [
       "                                       clean_comment  category\n",
       "0  family mormon never trie explain still stare p...         2\n",
       "1  buhism much lot compatible christianity especi...         2\n",
       "2  seriously say thing first get complex explain ...         0\n",
       "3  learne want teach ifferent focus goal wrapping...         1\n",
       "4  benefit may want rea living buha living christ...         2"
      ]
     },
     "execution_count": 150,
     "metadata": {},
     "output_type": "execute_result"
    }
   ],
   "source": [
    "data_v1.head()"
   ]
  },
  {
   "cell_type": "code",
   "execution_count": 57,
   "id": "70c89c37",
   "metadata": {},
   "outputs": [
    {
     "data": {
      "image/png": "[encoded data removed]",
      "text/plain": [
       "<Figure size 432x288 with 1 Axes>"
      ]
     },
     "metadata": {
      "needs_background": "light"
     },
     "output_type": "display_data"
    }
   ],
   "source": [
    "# check common words with wordcloud\n",
    "common_words=''\n",
    "for i in data_v1.clean_comment:\n",
    "    i = str(i)\n",
    "    tokens = i.split()\n",
    "    common_words += \" \".join(tokens)+\" \"\n",
    "wordcloud = wordcloud.WordCloud().generate(common_words)\n",
    "plt.imshow(wordcloud, interpolation='bilinear')\n",
    "plt.axis(\"off\")\n",
    "plt.show()"
   ]
  },
  {
   "cell_type": "code",
   "execution_count": 58,
   "id": "6b151e93",
   "metadata": {},
   "outputs": [
    {
     "data": {
      "text/html": [
       "<div>\n",
       "<style scoped>\n",
       "    .dataframe tbody tr th:only-of-type {\n",
       "        vertical-align: middle;\n",
       "    }\n",
       "\n",
       "    .dataframe tbody tr th {\n",
       "        vertical-align: top;\n",
       "    }\n",
       "\n",
       "    .dataframe thead th {\n",
       "        text-align: right;\n",
       "    }\n",
       "</style>\n",
       "<table border=\"1\" class=\"dataframe\">\n",
       "  <thead>\n",
       "    <tr style=\"text-align: right;\">\n",
       "      <th></th>\n",
       "      <th>clean_comment</th>\n",
       "      <th>category</th>\n",
       "    </tr>\n",
       "  </thead>\n",
       "  <tbody>\n",
       "    <tr>\n",
       "      <th>0</th>\n",
       "      <td>family mormon never trie explain still stare p...</td>\n",
       "      <td>2</td>\n",
       "    </tr>\n",
       "    <tr>\n",
       "      <th>1</th>\n",
       "      <td>buhism much lot compatible christianity especi...</td>\n",
       "      <td>2</td>\n",
       "    </tr>\n",
       "    <tr>\n",
       "      <th>2</th>\n",
       "      <td>seriously say thing first get complex explain ...</td>\n",
       "      <td>0</td>\n",
       "    </tr>\n",
       "    <tr>\n",
       "      <th>3</th>\n",
       "      <td>learne want teach ifferent focus goal wrapping...</td>\n",
       "      <td>1</td>\n",
       "    </tr>\n",
       "    <tr>\n",
       "      <th>4</th>\n",
       "      <td>benefit may want rea living buha living christ...</td>\n",
       "      <td>2</td>\n",
       "    </tr>\n",
       "  </tbody>\n",
       "</table>\n",
       "</div>"
      ],
      "text/plain": [
       "                                       clean_comment  category\n",
       "0  family mormon never trie explain still stare p...         2\n",
       "1  buhism much lot compatible christianity especi...         2\n",
       "2  seriously say thing first get complex explain ...         0\n",
       "3  learne want teach ifferent focus goal wrapping...         1\n",
       "4  benefit may want rea living buha living christ...         2"
      ]
     },
     "execution_count": 58,
     "metadata": {},
     "output_type": "execute_result"
    }
   ],
   "source": [
    "# Encoded the target column\n",
    "lb=LabelEncoder()\n",
    "data_v1['category'] = lb.fit_transform(data_v1['category'])\n",
    "data_v1.head()"
   ]
  },
  {
   "cell_type": "code",
   "execution_count": 60,
   "id": "e15bde23",
   "metadata": {},
   "outputs": [],
   "source": [
    "# tokenize input text\n",
    "tokenizer = Tokenizer(num_words=500, split=' ') \n",
    "tokenizer.fit_on_texts(data_v1['clean_comment'].values)\n",
    "X = tokenizer.texts_to_sequences(data_v1['clean_comment'].values)\n",
    "X = pad_sequences(X)"
   ]
  },
  {
   "cell_type": "code",
   "execution_count": 70,
   "id": "bd49a64b",
   "metadata": {},
   "outputs": [],
   "source": [
    "# saving\n",
    "with open('tokenizer_LSTM.pkl', 'wb') as handle:\n",
    "    pickle.dump(tokenizer, handle, protocol=pickle.HIGHEST_PROTOCOL)"
   ]
  },
  {
   "cell_type": "markdown",
   "id": "5f2ae672",
   "metadata": {},
   "source": [
    "# Model Building"
   ]
  },
  {
   "cell_type": "code",
   "execution_count": 64,
   "id": "5319d27e",
   "metadata": {},
   "outputs": [
    {
     "name": "stdout",
     "output_type": "stream",
     "text": [
      "Model: \"sequential_1\"\n",
      "_________________________________________________________________\n",
      " Layer (type)                Output Shape              Param #   \n",
      "=================================================================\n",
      " embedding_1 (Embedding)     (None, 464, 120)          60000     \n",
      "                                                                 \n",
      " spatial_dropout1d_1 (Spatia  (None, 464, 120)         0         \n",
      " lDropout1D)                                                     \n",
      "                                                                 \n",
      " lstm_1 (LSTM)               (None, 176)               209088    \n",
      "                                                                 \n",
      " dense_1 (Dense)             (None, 3)                 531       \n",
      "                                                                 \n",
      "=================================================================\n",
      "Total params: 269,619\n",
      "Trainable params: 269,619\n",
      "Non-trainable params: 0\n",
      "_________________________________________________________________\n",
      "None\n"
     ]
    }
   ],
   "source": [
    "# create model architecture\n",
    "model = Sequential()\n",
    "model.add(Embedding(500, 120, input_length = X.shape[1]))\n",
    "model.add(SpatialDropout1D(0.4))\n",
    "model.add(LSTM(176, dropout=0.2, recurrent_dropout=0.2))\n",
    "model.add(Dense(3,activation='softmax'))\n",
    "model.compile(loss = 'categorical_crossentropy', optimizer='adam', metrics = ['accuracy'])\n",
    "print(model.summary())"
   ]
  },
  {
   "cell_type": "code",
   "execution_count": 65,
   "id": "322f54ca",
   "metadata": {},
   "outputs": [],
   "source": [
    "# Splitting the data into training and testing\n",
    "y=pd.get_dummies(data_v1['category'])\n",
    "X_train, X_test, y_train, y_test = train_test_split(X,y, test_size = 0.3, random_state = 42)"
   ]
  },
  {
   "cell_type": "code",
   "execution_count": 66,
   "id": "4ccbc03d",
   "metadata": {},
   "outputs": [
    {
     "name": "stdout",
     "output_type": "stream",
     "text": [
      "Epoch 1/5\n",
      "813/813 [==============================] - 1371s 2s/step - loss: 0.7357 - accuracy: 0.6930\n",
      "Epoch 2/5\n",
      "813/813 [==============================] - 1338s 2s/step - loss: 0.6376 - accuracy: 0.7468\n",
      "Epoch 3/5\n",
      "813/813 [==============================] - 1340s 2s/step - loss: 0.6268 - accuracy: 0.7524\n",
      "Epoch 4/5\n",
      "813/813 [==============================] - 1385s 2s/step - loss: 0.6214 - accuracy: 0.7553\n",
      "Epoch 5/5\n",
      "813/813 [==============================] - 1428s 2s/step - loss: 0.6152 - accuracy: 0.7543\n"
     ]
    },
    {
     "data": {
      "text/plain": [
       "<keras.callbacks.History at 0x7fd0b36fb520>"
      ]
     },
     "execution_count": 66,
     "metadata": {},
     "output_type": "execute_result"
    }
   ],
   "source": [
    "# run model \n",
    "batch_size=32\n",
    "model.fit(X_train, y_train, epochs = 5, batch_size=batch_size, verbose = 'auto')"
   ]
  },
  {
   "cell_type": "markdown",
   "id": "68d6c998",
   "metadata": {},
   "source": [
    "# Model Evaluation "
   ]
  },
  {
   "cell_type": "code",
   "execution_count": 67,
   "id": "ae6989ac",
   "metadata": {},
   "outputs": [
    {
     "name": "stdout",
     "output_type": "stream",
     "text": [
      "349/349 [==============================] - 97s 275ms/step - loss: 0.6470 - accuracy: 0.7454\n"
     ]
    },
    {
     "data": {
      "text/plain": [
       "[0.6469517350196838, 0.7454463839530945]"
      ]
     },
     "execution_count": 67,
     "metadata": {},
     "output_type": "execute_result"
    }
   ],
   "source": [
    "# evaluate the model on testing dataset\n",
    "model.evaluate(X_test,y_test)"
   ]
  },
  {
   "cell_type": "code",
   "execution_count": 72,
   "id": "e249de67",
   "metadata": {},
   "outputs": [],
   "source": [
    "# save model\n",
    "model.save('model_LSTM.h5')"
   ]
  },
  {
   "cell_type": "code",
   "execution_count": 148,
   "id": "6f56c428",
   "metadata": {},
   "outputs": [
    {
     "data": {
      "image/png": "[encoded data removed]",
      "text/plain": [
       "<Figure size 576x432 with 2 Axes>"
      ]
     },
     "metadata": {
      "needs_background": "light"
     },
     "output_type": "display_data"
    }
   ],
   "source": [
    "# check model's performance on testing data\n",
    "import numpy as np\n",
    "from sklearn.metrics import confusion_matrix\n",
    "import seaborn as sns \n",
    "\n",
    "def plot_confusion_matrix(model, X_test, y_test):\n",
    "    '''Function to plot confusion matrix for the passed model and the data'''\n",
    "    \n",
    "    sentiment_classes = ['Negative', 'Neutral', 'Positive']\n",
    "    # use model to do the prediction\n",
    "    y_pred = model.predict(X_test)\n",
    "    # compute confusion matrix\n",
    "    cm = confusion_matrix(np.argmax(np.array(y_test),axis=1), np.argmax(y_pred, axis=1))\n",
    "    # plot confusion matrix\n",
    "    plt.figure(figsize=(8,6))\n",
    "    sns.heatmap(cm, cmap=plt.cm.Blues, annot=True, fmt='d', \n",
    "                xticklabels=sentiment_classes,\n",
    "                yticklabels=sentiment_classes)\n",
    "    plt.title('Confusion matrix', fontsize=16)\n",
    "    plt.xlabel('Actual label', fontsize=12)\n",
    "    plt.ylabel('Predicted label', fontsize=12)\n",
    "    \n",
    "plot_confusion_matrix(model, X_test, y_test)"
   ]
  },
  {
   "cell_type": "markdown",
   "id": "b4e46dbe",
   "metadata": {},
   "source": [
    "# Model Testing"
   ]
  },
  {
   "cell_type": "code",
   "execution_count": 1,
   "id": "fa57cd12",
   "metadata": {},
   "outputs": [],
   "source": [
    "# load required libraries\n",
    "from keras import backend as K\n",
    "from tensorflow.keras.models import Model, load_model"
   ]
  },
  {
   "cell_type": "code",
   "execution_count": 2,
   "id": "2675f2bc",
   "metadata": {},
   "outputs": [
    {
     "name": "stderr",
     "output_type": "stream",
     "text": [
      "2022-12-20 13:59:49.432736: I tensorflow/core/platform/cpu_feature_guard.cc:151] This TensorFlow binary is optimized with oneAPI Deep Neural Network Library (oneDNN) to use the following CPU instructions in performance-critical operations:  AVX2 FMA\n",
      "To enable them in other operations, rebuild TensorFlow with the appropriate compiler flags.\n"
     ]
    }
   ],
   "source": [
    "# load trained model\n",
    "model = load_model('model_LSTM.h5')"
   ]
  },
  {
   "cell_type": "code",
   "execution_count": 5,
   "id": "491131ec",
   "metadata": {},
   "outputs": [],
   "source": [
    "# load tokenizer\n",
    "import pickle \n",
    "\n",
    "with open('tokenizer_LSTM.pkl','rb') as handle:\n",
    "    tokenizer = pickle.load(handle)"
   ]
  },
  {
   "cell_type": "code",
   "execution_count": 33,
   "id": "eda08acb",
   "metadata": {},
   "outputs": [],
   "source": [
    "# input data\n",
    "text = '''most religions have dogmatic orthodox well esoteric philosophic side the christian heaven can seen palace the clouds state mind rebirth buddhism can seen fact just superstition left over from other beliefs you interpret and understand you see fit like think about various religions talking about the same thing using different words and yes cherry pick what believe but honestly and very carefully think better than taking everything religion says and rejecting everything doesn say there must hundred different ways talk about enlightenment heaven pure land individuation alchemy rites passage education trials meditation the tricky part that what describes can easily explained words and most importantly has understood which different than just knowing reading about the pure land real place state mind doubt real place but sure some will believe buddhism has some dogma but not nearly much eastern religions'''"
   ]
  },
  {
   "cell_type": "code",
   "execution_count": 34,
   "id": "1fa3a074",
   "metadata": {},
   "outputs": [],
   "source": [
    "# clean text for model \n",
    "def text_cleaning(text, stop_words):\n",
    "    text = text.lower()\n",
    "    # Replacing the digits/numbers\n",
    "    text = text.replace('d', '')\n",
    "    # remove stopwords\n",
    "    words = [w for w in text if w not in stopwords.words(\"english\")]\n",
    "    # apply stemming\n",
    "    words = [Word(w).lemmatize() for w in words]\n",
    "    # merge words \n",
    "    words = ' '.join(words)\n",
    "    return text\n",
    "\n",
    "# apply text cleaning\n",
    "stop_words = stopwords.words('english')\n",
    "text = text_cleaning(text, stop_words)"
   ]
  },
  {
   "cell_type": "code",
   "execution_count": 35,
   "id": "023a2f5b",
   "metadata": {},
   "outputs": [],
   "source": [
    "# tokenize and pad input data\n",
    "sequences = tokenizer.texts_to_sequences([text])\n",
    "t_text = pad_sequences(sequences, maxlen =  464)"
   ]
  },
  {
   "cell_type": "code",
   "execution_count": 36,
   "id": "11f2823f",
   "metadata": {},
   "outputs": [
    {
     "name": "stdout",
     "output_type": "stream",
     "text": [
      "Thread has positive sentiment\n"
     ]
    }
   ],
   "source": [
    "# make predictions\n",
    "# Negative, Neutral, Positive\n",
    "prediction = model.predict(t_text)\n",
    "\n",
    "prediction_class = prediction.argmax(axis=-1)[0]\n",
    "if prediction_class == 0:\n",
    "    print('Thread has negative sentiment')\n",
    "if prediction_class == 1:\n",
    "    print('Thread has neutral sentiment')\n",
    "if prediction_class == 2:\n",
    "    print('Thread has positive sentiment')"
   ]
  },
  {
   "cell_type": "code",
   "execution_count": null,
   "id": "6f7af4c2",
   "metadata": {},
   "outputs": [],
   "source": []
  },
  {
   "cell_type": "code",
   "execution_count": null,
   "id": "eb52fad8",
   "metadata": {},
   "outputs": [],
   "source": []
  },
  {
   "cell_type": "code",
   "execution_count": null,
   "id": "53d1aa49",
   "metadata": {},
   "outputs": [],
   "source": []
  }
 ],
 "metadata": {
  "kernelspec": {
   "display_name": "Python 3 (ipykernel)",
   "language": "python",
   "name": "python3"
  },
  "language_info": {
   "codemirror_mode": {
    "name": "ipython",
    "version": 3
   },
   "file_extension": ".py",
   "mimetype": "text/x-python",
   "name": "python",
   "nbconvert_exporter": "python",
   "pygments_lexer": "ipython3",
   "version": "3.9.7"
  }
 },
 "nbformat": 4,
 "nbformat_minor": 5
}
